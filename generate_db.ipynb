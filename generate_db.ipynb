{
 "cells": [
  {
   "cell_type": "code",
   "execution_count": 52,
   "source": [
    "import duckdb"
   ],
   "outputs": [],
   "metadata": {}
  },
  {
   "cell_type": "code",
   "execution_count": 53,
   "source": [
    "conn = duckdb.connect('database/UserLogDB.db')"
   ],
   "outputs": [],
   "metadata": {}
  },
  {
   "cell_type": "code",
   "execution_count": 54,
   "source": [
    "query = \"\"\"DROP TABLE IF EXISTS users\"\"\"\n",
    "conn.execute(query)\n",
    "query = \"\"\"DROP TABLE IF EXISTS logon_events\"\"\"\n",
    "conn.execute(query)"
   ],
   "outputs": [
    {
     "output_type": "execute_result",
     "data": {
      "text/plain": [
       "<duckdb.duckdb.DuckDBPyConnection at 0x7fbe615d97b0>"
      ]
     },
     "metadata": {},
     "execution_count": 54
    }
   ],
   "metadata": {}
  },
  {
   "cell_type": "code",
   "execution_count": 55,
   "source": [
    "query = \"\"\"\n",
    "CREATE TABLE IF NOT EXISTS users (\n",
    "    userid VARCHAR(50) PRIMARY KEY,\n",
    "    created_at TIMESTAMP\n",
    ")\n",
    "\"\"\"\n",
    "conn.execute(query)"
   ],
   "outputs": [
    {
     "output_type": "execute_result",
     "data": {
      "text/plain": [
       "<duckdb.duckdb.DuckDBPyConnection at 0x7fbe615d97b0>"
      ]
     },
     "metadata": {},
     "execution_count": 55
    }
   ],
   "metadata": {}
  },
  {
   "cell_type": "code",
   "execution_count": 56,
   "source": [
    "query = \"\"\"\n",
    "CREATE TABLE IF NOT EXISTS logon_events (\n",
    "    userid VARCHAR(50),\n",
    "    logon_ts TIMESTAMP\n",
    ")\n",
    "\"\"\"\n",
    "conn.execute(query)"
   ],
   "outputs": [
    {
     "output_type": "execute_result",
     "data": {
      "text/plain": [
       "<duckdb.duckdb.DuckDBPyConnection at 0x7fbe615d97b0>"
      ]
     },
     "metadata": {},
     "execution_count": 56
    }
   ],
   "metadata": {}
  },
  {
   "cell_type": "code",
   "execution_count": 57,
   "source": [
    "query = \"\"\"SELECT * FROM logon_events\"\"\"\n",
    "conn.execute(query).df()"
   ],
   "outputs": [
    {
     "output_type": "execute_result",
     "data": {
      "text/html": [
       "<div>\n",
       "<style scoped>\n",
       "    .dataframe tbody tr th:only-of-type {\n",
       "        vertical-align: middle;\n",
       "    }\n",
       "\n",
       "    .dataframe tbody tr th {\n",
       "        vertical-align: top;\n",
       "    }\n",
       "\n",
       "    .dataframe thead th {\n",
       "        text-align: right;\n",
       "    }\n",
       "</style>\n",
       "<table border=\"1\" class=\"dataframe\">\n",
       "  <thead>\n",
       "    <tr style=\"text-align: right;\">\n",
       "      <th></th>\n",
       "      <th>userid</th>\n",
       "      <th>logon_ts</th>\n",
       "    </tr>\n",
       "  </thead>\n",
       "  <tbody>\n",
       "  </tbody>\n",
       "</table>\n",
       "</div>"
      ],
      "text/plain": [
       "Empty DataFrame\n",
       "Columns: [userid, logon_ts]\n",
       "Index: []"
      ]
     },
     "metadata": {},
     "execution_count": 57
    }
   ],
   "metadata": {}
  },
  {
   "cell_type": "code",
   "execution_count": 58,
   "source": [
    "query = \"\"\"\n",
    "INSERT INTO users (userid, created_at)\n",
    "SELECT\n",
    "    CONCAT('user', number['generate_series']),\n",
    "    get_current_timestamp() - (CAST(RANDOM() * 2592000 AS INTEGER) || ' SECONDS')::INTERVAL\n",
    "FROM GENERATE_SERIES(1, 10) AS number; \n",
    "\"\"\"\n",
    "conn.execute(query)"
   ],
   "outputs": [
    {
     "output_type": "execute_result",
     "data": {
      "text/plain": [
       "<duckdb.duckdb.DuckDBPyConnection at 0x7fbe615d97b0>"
      ]
     },
     "metadata": {},
     "execution_count": 58
    }
   ],
   "metadata": {}
  },
  {
   "cell_type": "code",
   "execution_count": 59,
   "source": [
    "query = \"\"\"\n",
    "INSERT INTO logon_events (userid, logon_ts)\n",
    "SELECT userid, created_at + INTERVAL '1 DAY' AS logon_date\n",
    "FROM users\n",
    "WHERE userid in ('user2', 'user4', 'user3', 'user10');\n",
    "\"\"\"\n",
    "conn.execute(query)"
   ],
   "outputs": [
    {
     "output_type": "execute_result",
     "data": {
      "text/plain": [
       "<duckdb.duckdb.DuckDBPyConnection at 0x7fbe615d97b0>"
      ]
     },
     "metadata": {},
     "execution_count": 59
    }
   ],
   "metadata": {}
  },
  {
   "cell_type": "code",
   "execution_count": 60,
   "source": [
    "query = \"\"\"\n",
    "INSERT INTO logon_events (userid, logon_ts)\n",
    "SELECT userid, created_at + INTERVAL '2 DAY' AS logon_date\n",
    "FROM users\n",
    "WHERE userid in ('user1', 'user5', 'user4');\n",
    "\n",
    "INSERT INTO logon_events (userid, logon_ts)\n",
    "SELECT userid, created_at + INTERVAL '51 HOURS' AS logon_date\n",
    "FROM users\n",
    "WHERE userid in ('user5', 'user4');\n",
    "\n",
    "INSERT INTO logon_events (userid, logon_ts)\n",
    "SELECT userid, created_at + INTERVAL '3 DAY' AS logon_date\n",
    "FROM users\n",
    "WHERE userid in ('user1', 'user10', 'user9', 'user5', 'user6');\n",
    "\"\"\"\n",
    "conn.execute(query)"
   ],
   "outputs": [
    {
     "output_type": "execute_result",
     "data": {
      "text/plain": [
       "<duckdb.duckdb.DuckDBPyConnection at 0x7fbe615d97b0>"
      ]
     },
     "metadata": {},
     "execution_count": 60
    }
   ],
   "metadata": {}
  },
  {
   "cell_type": "code",
   "execution_count": 61,
   "source": [
    "query = \"\"\"SELECT * FROM users\"\"\"\n",
    "conn.execute(query).df()"
   ],
   "outputs": [
    {
     "output_type": "execute_result",
     "data": {
      "text/html": [
       "<div>\n",
       "<style scoped>\n",
       "    .dataframe tbody tr th:only-of-type {\n",
       "        vertical-align: middle;\n",
       "    }\n",
       "\n",
       "    .dataframe tbody tr th {\n",
       "        vertical-align: top;\n",
       "    }\n",
       "\n",
       "    .dataframe thead th {\n",
       "        text-align: right;\n",
       "    }\n",
       "</style>\n",
       "<table border=\"1\" class=\"dataframe\">\n",
       "  <thead>\n",
       "    <tr style=\"text-align: right;\">\n",
       "      <th></th>\n",
       "      <th>userid</th>\n",
       "      <th>created_at</th>\n",
       "    </tr>\n",
       "  </thead>\n",
       "  <tbody>\n",
       "    <tr>\n",
       "      <th>0</th>\n",
       "      <td>user1</td>\n",
       "      <td>2023-11-18 16:35:10.429</td>\n",
       "    </tr>\n",
       "    <tr>\n",
       "      <th>1</th>\n",
       "      <td>user2</td>\n",
       "      <td>2023-11-30 06:30:08.429</td>\n",
       "    </tr>\n",
       "    <tr>\n",
       "      <th>2</th>\n",
       "      <td>user3</td>\n",
       "      <td>2023-12-16 16:42:11.429</td>\n",
       "    </tr>\n",
       "    <tr>\n",
       "      <th>3</th>\n",
       "      <td>user4</td>\n",
       "      <td>2023-12-04 07:22:10.429</td>\n",
       "    </tr>\n",
       "    <tr>\n",
       "      <th>4</th>\n",
       "      <td>user5</td>\n",
       "      <td>2023-12-15 06:00:34.429</td>\n",
       "    </tr>\n",
       "    <tr>\n",
       "      <th>5</th>\n",
       "      <td>user6</td>\n",
       "      <td>2023-11-21 08:40:35.429</td>\n",
       "    </tr>\n",
       "    <tr>\n",
       "      <th>6</th>\n",
       "      <td>user7</td>\n",
       "      <td>2023-11-21 21:54:06.429</td>\n",
       "    </tr>\n",
       "    <tr>\n",
       "      <th>7</th>\n",
       "      <td>user8</td>\n",
       "      <td>2023-11-30 07:37:58.429</td>\n",
       "    </tr>\n",
       "    <tr>\n",
       "      <th>8</th>\n",
       "      <td>user9</td>\n",
       "      <td>2023-12-15 21:48:27.429</td>\n",
       "    </tr>\n",
       "    <tr>\n",
       "      <th>9</th>\n",
       "      <td>user10</td>\n",
       "      <td>2023-11-29 11:13:15.429</td>\n",
       "    </tr>\n",
       "  </tbody>\n",
       "</table>\n",
       "</div>"
      ],
      "text/plain": [
       "   userid              created_at\n",
       "0   user1 2023-11-18 16:35:10.429\n",
       "1   user2 2023-11-30 06:30:08.429\n",
       "2   user3 2023-12-16 16:42:11.429\n",
       "3   user4 2023-12-04 07:22:10.429\n",
       "4   user5 2023-12-15 06:00:34.429\n",
       "5   user6 2023-11-21 08:40:35.429\n",
       "6   user7 2023-11-21 21:54:06.429\n",
       "7   user8 2023-11-30 07:37:58.429\n",
       "8   user9 2023-12-15 21:48:27.429\n",
       "9  user10 2023-11-29 11:13:15.429"
      ]
     },
     "metadata": {},
     "execution_count": 61
    }
   ],
   "metadata": {}
  },
  {
   "cell_type": "code",
   "execution_count": 62,
   "source": [
    "query = \"\"\"SELECT * FROM logon_events\"\"\"\n",
    "conn.execute(query).df()"
   ],
   "outputs": [
    {
     "output_type": "execute_result",
     "data": {
      "text/html": [
       "<div>\n",
       "<style scoped>\n",
       "    .dataframe tbody tr th:only-of-type {\n",
       "        vertical-align: middle;\n",
       "    }\n",
       "\n",
       "    .dataframe tbody tr th {\n",
       "        vertical-align: top;\n",
       "    }\n",
       "\n",
       "    .dataframe thead th {\n",
       "        text-align: right;\n",
       "    }\n",
       "</style>\n",
       "<table border=\"1\" class=\"dataframe\">\n",
       "  <thead>\n",
       "    <tr style=\"text-align: right;\">\n",
       "      <th></th>\n",
       "      <th>userid</th>\n",
       "      <th>logon_ts</th>\n",
       "    </tr>\n",
       "  </thead>\n",
       "  <tbody>\n",
       "    <tr>\n",
       "      <th>0</th>\n",
       "      <td>user2</td>\n",
       "      <td>2023-12-01 06:30:08.429</td>\n",
       "    </tr>\n",
       "    <tr>\n",
       "      <th>1</th>\n",
       "      <td>user4</td>\n",
       "      <td>2023-12-05 07:22:10.429</td>\n",
       "    </tr>\n",
       "    <tr>\n",
       "      <th>2</th>\n",
       "      <td>user3</td>\n",
       "      <td>2023-12-17 16:42:11.429</td>\n",
       "    </tr>\n",
       "    <tr>\n",
       "      <th>3</th>\n",
       "      <td>user10</td>\n",
       "      <td>2023-11-30 11:13:15.429</td>\n",
       "    </tr>\n",
       "    <tr>\n",
       "      <th>4</th>\n",
       "      <td>user1</td>\n",
       "      <td>2023-11-20 16:35:10.429</td>\n",
       "    </tr>\n",
       "    <tr>\n",
       "      <th>5</th>\n",
       "      <td>user5</td>\n",
       "      <td>2023-12-17 06:00:34.429</td>\n",
       "    </tr>\n",
       "    <tr>\n",
       "      <th>6</th>\n",
       "      <td>user4</td>\n",
       "      <td>2023-12-06 07:22:10.429</td>\n",
       "    </tr>\n",
       "    <tr>\n",
       "      <th>7</th>\n",
       "      <td>user5</td>\n",
       "      <td>2023-12-17 09:00:34.429</td>\n",
       "    </tr>\n",
       "    <tr>\n",
       "      <th>8</th>\n",
       "      <td>user4</td>\n",
       "      <td>2023-12-06 10:22:10.429</td>\n",
       "    </tr>\n",
       "    <tr>\n",
       "      <th>9</th>\n",
       "      <td>user1</td>\n",
       "      <td>2023-11-21 16:35:10.429</td>\n",
       "    </tr>\n",
       "    <tr>\n",
       "      <th>10</th>\n",
       "      <td>user5</td>\n",
       "      <td>2023-12-18 06:00:34.429</td>\n",
       "    </tr>\n",
       "    <tr>\n",
       "      <th>11</th>\n",
       "      <td>user6</td>\n",
       "      <td>2023-11-24 08:40:35.429</td>\n",
       "    </tr>\n",
       "    <tr>\n",
       "      <th>12</th>\n",
       "      <td>user9</td>\n",
       "      <td>2023-12-18 21:48:27.429</td>\n",
       "    </tr>\n",
       "    <tr>\n",
       "      <th>13</th>\n",
       "      <td>user10</td>\n",
       "      <td>2023-12-02 11:13:15.429</td>\n",
       "    </tr>\n",
       "  </tbody>\n",
       "</table>\n",
       "</div>"
      ],
      "text/plain": [
       "    userid                logon_ts\n",
       "0    user2 2023-12-01 06:30:08.429\n",
       "1    user4 2023-12-05 07:22:10.429\n",
       "2    user3 2023-12-17 16:42:11.429\n",
       "3   user10 2023-11-30 11:13:15.429\n",
       "4    user1 2023-11-20 16:35:10.429\n",
       "5    user5 2023-12-17 06:00:34.429\n",
       "6    user4 2023-12-06 07:22:10.429\n",
       "7    user5 2023-12-17 09:00:34.429\n",
       "8    user4 2023-12-06 10:22:10.429\n",
       "9    user1 2023-11-21 16:35:10.429\n",
       "10   user5 2023-12-18 06:00:34.429\n",
       "11   user6 2023-11-24 08:40:35.429\n",
       "12   user9 2023-12-18 21:48:27.429\n",
       "13  user10 2023-12-02 11:13:15.429"
      ]
     },
     "metadata": {},
     "execution_count": 62
    }
   ],
   "metadata": {}
  },
  {
   "cell_type": "code",
   "execution_count": null,
   "source": [],
   "outputs": [],
   "metadata": {}
  }
 ],
 "metadata": {
  "orig_nbformat": 4,
  "language_info": {
   "name": "python",
   "version": "3.9.7",
   "mimetype": "text/x-python",
   "codemirror_mode": {
    "name": "ipython",
    "version": 3
   },
   "pygments_lexer": "ipython3",
   "nbconvert_exporter": "python",
   "file_extension": ".py"
  },
  "kernelspec": {
   "name": "python3",
   "display_name": "Python 3.9.7 64-bit ('env': venv)"
  },
  "interpreter": {
   "hash": "fcfdd1923cae17fed5388ded1bb1897f2f6763d50bae27165958b59df7f6c352"
  }
 },
 "nbformat": 4,
 "nbformat_minor": 2
}