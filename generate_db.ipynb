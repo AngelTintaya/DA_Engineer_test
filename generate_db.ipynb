{
 "cells": [
  {
   "cell_type": "code",
   "execution_count": 1,
   "metadata": {},
   "outputs": [],
   "source": [
    "import duckdb\n",
    "from packages import constants"
   ]
  },
  {
   "cell_type": "code",
   "execution_count": 2,
   "metadata": {},
   "outputs": [],
   "source": [
    "conn = duckdb.connect(constants.DATABASE_NAME)"
   ]
  },
  {
   "cell_type": "code",
   "execution_count": 3,
   "metadata": {},
   "outputs": [
    {
     "data": {
      "text/plain": [
       "<duckdb.duckdb.DuckDBPyConnection at 0x7fb908958ef0>"
      ]
     },
     "execution_count": 3,
     "metadata": {},
     "output_type": "execute_result"
    }
   ],
   "source": [
    "query = \"\"\"DROP TABLE IF EXISTS users\"\"\"\n",
    "conn.execute(query)\n",
    "query = \"\"\"DROP TABLE IF EXISTS logon_events\"\"\"\n",
    "conn.execute(query)"
   ]
  },
  {
   "cell_type": "code",
   "execution_count": 4,
   "metadata": {},
   "outputs": [
    {
     "data": {
      "text/plain": [
       "<duckdb.duckdb.DuckDBPyConnection at 0x7fb908958ef0>"
      ]
     },
     "execution_count": 4,
     "metadata": {},
     "output_type": "execute_result"
    }
   ],
   "source": [
    "query = \"\"\"\n",
    "CREATE TABLE IF NOT EXISTS users (\n",
    "    userid VARCHAR(50) PRIMARY KEY,\n",
    "    created_at TIMESTAMP\n",
    ")\n",
    "\"\"\"\n",
    "conn.execute(query)"
   ]
  },
  {
   "cell_type": "code",
   "execution_count": 5,
   "metadata": {},
   "outputs": [
    {
     "data": {
      "text/plain": [
       "<duckdb.duckdb.DuckDBPyConnection at 0x7fb908958ef0>"
      ]
     },
     "execution_count": 5,
     "metadata": {},
     "output_type": "execute_result"
    }
   ],
   "source": [
    "query = \"\"\"\n",
    "CREATE TABLE IF NOT EXISTS logon_events (\n",
    "    userid VARCHAR(50),\n",
    "    logon_ts TIMESTAMP\n",
    ")\n",
    "\"\"\"\n",
    "conn.execute(query)"
   ]
  },
  {
   "cell_type": "code",
   "execution_count": 6,
   "metadata": {},
   "outputs": [
    {
     "data": {
      "text/html": [
       "<div>\n",
       "<style scoped>\n",
       "    .dataframe tbody tr th:only-of-type {\n",
       "        vertical-align: middle;\n",
       "    }\n",
       "\n",
       "    .dataframe tbody tr th {\n",
       "        vertical-align: top;\n",
       "    }\n",
       "\n",
       "    .dataframe thead th {\n",
       "        text-align: right;\n",
       "    }\n",
       "</style>\n",
       "<table border=\"1\" class=\"dataframe\">\n",
       "  <thead>\n",
       "    <tr style=\"text-align: right;\">\n",
       "      <th></th>\n",
       "      <th>userid</th>\n",
       "      <th>logon_ts</th>\n",
       "    </tr>\n",
       "  </thead>\n",
       "  <tbody>\n",
       "  </tbody>\n",
       "</table>\n",
       "</div>"
      ],
      "text/plain": [
       "Empty DataFrame\n",
       "Columns: [userid, logon_ts]\n",
       "Index: []"
      ]
     },
     "execution_count": 6,
     "metadata": {},
     "output_type": "execute_result"
    }
   ],
   "source": [
    "query = \"\"\"SELECT * FROM logon_events\"\"\"\n",
    "conn.execute(query).df()"
   ]
  },
  {
   "cell_type": "code",
   "execution_count": 7,
   "metadata": {},
   "outputs": [
    {
     "data": {
      "text/plain": [
       "<duckdb.duckdb.DuckDBPyConnection at 0x7fb908958ef0>"
      ]
     },
     "execution_count": 7,
     "metadata": {},
     "output_type": "execute_result"
    }
   ],
   "source": [
    "query = \"\"\"\n",
    "INSERT INTO users (userid, created_at)\n",
    "SELECT\n",
    "    CONCAT('user', number['generate_series']),\n",
    "    get_current_timestamp() - (CAST(RANDOM() * 2592000 AS INTEGER) || ' SECONDS')::INTERVAL\n",
    "FROM GENERATE_SERIES(1, 10) AS number; \n",
    "\"\"\"\n",
    "conn.execute(query)"
   ]
  },
  {
   "cell_type": "code",
   "execution_count": 8,
   "metadata": {},
   "outputs": [
    {
     "data": {
      "text/plain": [
       "<duckdb.duckdb.DuckDBPyConnection at 0x7fb908958ef0>"
      ]
     },
     "execution_count": 8,
     "metadata": {},
     "output_type": "execute_result"
    }
   ],
   "source": [
    "query = \"\"\"\n",
    "INSERT INTO logon_events (userid, logon_ts)\n",
    "SELECT userid, created_at + INTERVAL '1 DAY' AS logon_date\n",
    "FROM users\n",
    "WHERE userid in ('user2', 'user4', 'user3', 'user10');\n",
    "\"\"\"\n",
    "conn.execute(query)"
   ]
  },
  {
   "cell_type": "code",
   "execution_count": 9,
   "metadata": {},
   "outputs": [
    {
     "data": {
      "text/plain": [
       "<duckdb.duckdb.DuckDBPyConnection at 0x7fb908958ef0>"
      ]
     },
     "execution_count": 9,
     "metadata": {},
     "output_type": "execute_result"
    }
   ],
   "source": [
    "query = \"\"\"\n",
    "INSERT INTO logon_events (userid, logon_ts)\n",
    "SELECT userid, created_at + INTERVAL '2 DAY' AS logon_date\n",
    "FROM users\n",
    "WHERE userid in ('user1', 'user5', 'user4');\n",
    "\n",
    "INSERT INTO logon_events (userid, logon_ts)\n",
    "SELECT userid, created_at + INTERVAL '51 HOURS' AS logon_date\n",
    "FROM users\n",
    "WHERE userid in ('user5', 'user4');\n",
    "\n",
    "INSERT INTO logon_events (userid, logon_ts)\n",
    "SELECT userid, created_at + INTERVAL '3 DAY' AS logon_date\n",
    "FROM users\n",
    "WHERE userid in ('user1', 'user10', 'user9', 'user5', 'user6');\n",
    "\"\"\"\n",
    "conn.execute(query)"
   ]
  },
  {
   "cell_type": "code",
   "execution_count": 10,
   "metadata": {},
   "outputs": [
    {
     "data": {
      "text/html": [
       "<div>\n",
       "<style scoped>\n",
       "    .dataframe tbody tr th:only-of-type {\n",
       "        vertical-align: middle;\n",
       "    }\n",
       "\n",
       "    .dataframe tbody tr th {\n",
       "        vertical-align: top;\n",
       "    }\n",
       "\n",
       "    .dataframe thead th {\n",
       "        text-align: right;\n",
       "    }\n",
       "</style>\n",
       "<table border=\"1\" class=\"dataframe\">\n",
       "  <thead>\n",
       "    <tr style=\"text-align: right;\">\n",
       "      <th></th>\n",
       "      <th>userid</th>\n",
       "      <th>created_at</th>\n",
       "    </tr>\n",
       "  </thead>\n",
       "  <tbody>\n",
       "    <tr>\n",
       "      <th>0</th>\n",
       "      <td>user1</td>\n",
       "      <td>2023-12-08 23:18:37.722</td>\n",
       "    </tr>\n",
       "    <tr>\n",
       "      <th>1</th>\n",
       "      <td>user2</td>\n",
       "      <td>2023-11-27 17:21:01.722</td>\n",
       "    </tr>\n",
       "    <tr>\n",
       "      <th>2</th>\n",
       "      <td>user3</td>\n",
       "      <td>2023-12-17 11:08:53.722</td>\n",
       "    </tr>\n",
       "    <tr>\n",
       "      <th>3</th>\n",
       "      <td>user4</td>\n",
       "      <td>2023-12-05 11:27:57.722</td>\n",
       "    </tr>\n",
       "    <tr>\n",
       "      <th>4</th>\n",
       "      <td>user5</td>\n",
       "      <td>2023-12-07 16:45:56.722</td>\n",
       "    </tr>\n",
       "    <tr>\n",
       "      <th>5</th>\n",
       "      <td>user6</td>\n",
       "      <td>2023-12-17 15:36:16.722</td>\n",
       "    </tr>\n",
       "    <tr>\n",
       "      <th>6</th>\n",
       "      <td>user7</td>\n",
       "      <td>2023-12-08 17:52:47.722</td>\n",
       "    </tr>\n",
       "    <tr>\n",
       "      <th>7</th>\n",
       "      <td>user8</td>\n",
       "      <td>2023-12-10 00:24:49.722</td>\n",
       "    </tr>\n",
       "    <tr>\n",
       "      <th>8</th>\n",
       "      <td>user9</td>\n",
       "      <td>2023-12-02 01:11:58.722</td>\n",
       "    </tr>\n",
       "    <tr>\n",
       "      <th>9</th>\n",
       "      <td>user10</td>\n",
       "      <td>2023-12-15 20:06:11.722</td>\n",
       "    </tr>\n",
       "  </tbody>\n",
       "</table>\n",
       "</div>"
      ],
      "text/plain": [
       "   userid              created_at\n",
       "0   user1 2023-12-08 23:18:37.722\n",
       "1   user2 2023-11-27 17:21:01.722\n",
       "2   user3 2023-12-17 11:08:53.722\n",
       "3   user4 2023-12-05 11:27:57.722\n",
       "4   user5 2023-12-07 16:45:56.722\n",
       "5   user6 2023-12-17 15:36:16.722\n",
       "6   user7 2023-12-08 17:52:47.722\n",
       "7   user8 2023-12-10 00:24:49.722\n",
       "8   user9 2023-12-02 01:11:58.722\n",
       "9  user10 2023-12-15 20:06:11.722"
      ]
     },
     "execution_count": 10,
     "metadata": {},
     "output_type": "execute_result"
    }
   ],
   "source": [
    "query = \"\"\"SELECT * FROM users\"\"\"\n",
    "conn.execute(query).df()"
   ]
  },
  {
   "cell_type": "code",
   "execution_count": 11,
   "metadata": {},
   "outputs": [
    {
     "data": {
      "text/html": [
       "<div>\n",
       "<style scoped>\n",
       "    .dataframe tbody tr th:only-of-type {\n",
       "        vertical-align: middle;\n",
       "    }\n",
       "\n",
       "    .dataframe tbody tr th {\n",
       "        vertical-align: top;\n",
       "    }\n",
       "\n",
       "    .dataframe thead th {\n",
       "        text-align: right;\n",
       "    }\n",
       "</style>\n",
       "<table border=\"1\" class=\"dataframe\">\n",
       "  <thead>\n",
       "    <tr style=\"text-align: right;\">\n",
       "      <th></th>\n",
       "      <th>userid</th>\n",
       "      <th>logon_ts</th>\n",
       "    </tr>\n",
       "  </thead>\n",
       "  <tbody>\n",
       "    <tr>\n",
       "      <th>0</th>\n",
       "      <td>user2</td>\n",
       "      <td>2023-11-28 17:21:01.722</td>\n",
       "    </tr>\n",
       "    <tr>\n",
       "      <th>1</th>\n",
       "      <td>user4</td>\n",
       "      <td>2023-12-06 11:27:57.722</td>\n",
       "    </tr>\n",
       "    <tr>\n",
       "      <th>2</th>\n",
       "      <td>user3</td>\n",
       "      <td>2023-12-18 11:08:53.722</td>\n",
       "    </tr>\n",
       "    <tr>\n",
       "      <th>3</th>\n",
       "      <td>user10</td>\n",
       "      <td>2023-12-16 20:06:11.722</td>\n",
       "    </tr>\n",
       "    <tr>\n",
       "      <th>4</th>\n",
       "      <td>user1</td>\n",
       "      <td>2023-12-10 23:18:37.722</td>\n",
       "    </tr>\n",
       "    <tr>\n",
       "      <th>5</th>\n",
       "      <td>user5</td>\n",
       "      <td>2023-12-09 16:45:56.722</td>\n",
       "    </tr>\n",
       "    <tr>\n",
       "      <th>6</th>\n",
       "      <td>user4</td>\n",
       "      <td>2023-12-07 11:27:57.722</td>\n",
       "    </tr>\n",
       "    <tr>\n",
       "      <th>7</th>\n",
       "      <td>user5</td>\n",
       "      <td>2023-12-09 19:45:56.722</td>\n",
       "    </tr>\n",
       "    <tr>\n",
       "      <th>8</th>\n",
       "      <td>user4</td>\n",
       "      <td>2023-12-07 14:27:57.722</td>\n",
       "    </tr>\n",
       "    <tr>\n",
       "      <th>9</th>\n",
       "      <td>user1</td>\n",
       "      <td>2023-12-11 23:18:37.722</td>\n",
       "    </tr>\n",
       "    <tr>\n",
       "      <th>10</th>\n",
       "      <td>user5</td>\n",
       "      <td>2023-12-10 16:45:56.722</td>\n",
       "    </tr>\n",
       "    <tr>\n",
       "      <th>11</th>\n",
       "      <td>user6</td>\n",
       "      <td>2023-12-20 15:36:16.722</td>\n",
       "    </tr>\n",
       "    <tr>\n",
       "      <th>12</th>\n",
       "      <td>user9</td>\n",
       "      <td>2023-12-05 01:11:58.722</td>\n",
       "    </tr>\n",
       "    <tr>\n",
       "      <th>13</th>\n",
       "      <td>user10</td>\n",
       "      <td>2023-12-18 20:06:11.722</td>\n",
       "    </tr>\n",
       "  </tbody>\n",
       "</table>\n",
       "</div>"
      ],
      "text/plain": [
       "    userid                logon_ts\n",
       "0    user2 2023-11-28 17:21:01.722\n",
       "1    user4 2023-12-06 11:27:57.722\n",
       "2    user3 2023-12-18 11:08:53.722\n",
       "3   user10 2023-12-16 20:06:11.722\n",
       "4    user1 2023-12-10 23:18:37.722\n",
       "5    user5 2023-12-09 16:45:56.722\n",
       "6    user4 2023-12-07 11:27:57.722\n",
       "7    user5 2023-12-09 19:45:56.722\n",
       "8    user4 2023-12-07 14:27:57.722\n",
       "9    user1 2023-12-11 23:18:37.722\n",
       "10   user5 2023-12-10 16:45:56.722\n",
       "11   user6 2023-12-20 15:36:16.722\n",
       "12   user9 2023-12-05 01:11:58.722\n",
       "13  user10 2023-12-18 20:06:11.722"
      ]
     },
     "execution_count": 11,
     "metadata": {},
     "output_type": "execute_result"
    }
   ],
   "source": [
    "query = \"\"\"SELECT * FROM logon_events\"\"\"\n",
    "conn.execute(query).df()"
   ]
  },
  {
   "cell_type": "code",
   "execution_count": 12,
   "metadata": {},
   "outputs": [],
   "source": [
    "conn.close()"
   ]
  }
 ],
 "metadata": {
  "interpreter": {
   "hash": "fcfdd1923cae17fed5388ded1bb1897f2f6763d50bae27165958b59df7f6c352"
  },
  "kernelspec": {
   "display_name": "Python 3.9.7 64-bit ('env': venv)",
   "name": "python3"
  },
  "language_info": {
   "codemirror_mode": {
    "name": "ipython",
    "version": 3
   },
   "file_extension": ".py",
   "mimetype": "text/x-python",
   "name": "python",
   "nbconvert_exporter": "python",
   "pygments_lexer": "ipython3",
   "version": "3.9.7"
  },
  "orig_nbformat": 4
 },
 "nbformat": 4,
 "nbformat_minor": 2
}
